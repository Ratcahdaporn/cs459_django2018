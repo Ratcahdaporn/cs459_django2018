{
 "cells": [
  {
   "cell_type": "code",
   "execution_count": 1,
   "metadata": {},
   "outputs": [],
   "source": [
    "import sqlite3\n",
    "import pandas as pd"
   ]
  },
  {
   "cell_type": "code",
   "execution_count": 2,
   "metadata": {},
   "outputs": [],
   "source": [
    "db = sqlite3.connect('db.sqlite3')"
   ]
  },
  {
   "cell_type": "code",
   "execution_count": 12,
   "metadata": {},
   "outputs": [],
   "source": [
    "df= pd.read_sql_query(\"select * from django_session\", db)"
   ]
  },
  {
   "cell_type": "code",
   "execution_count": 13,
   "metadata": {},
   "outputs": [
    {
     "data": {
      "text/html": [
       "<div>\n",
       "<style scoped>\n",
       "    .dataframe tbody tr th:only-of-type {\n",
       "        vertical-align: middle;\n",
       "    }\n",
       "\n",
       "    .dataframe tbody tr th {\n",
       "        vertical-align: top;\n",
       "    }\n",
       "\n",
       "    .dataframe thead th {\n",
       "        text-align: right;\n",
       "    }\n",
       "</style>\n",
       "<table border=\"1\" class=\"dataframe\">\n",
       "  <thead>\n",
       "    <tr style=\"text-align: right;\">\n",
       "      <th></th>\n",
       "      <th>session_key</th>\n",
       "      <th>session_data</th>\n",
       "      <th>expire_date</th>\n",
       "    </tr>\n",
       "  </thead>\n",
       "  <tbody>\n",
       "    <tr>\n",
       "      <th>0</th>\n",
       "      <td>owen8mcllp08yujyt86m1lckn2ut7sqh</td>\n",
       "      <td>ZTVjMmFhNTk4NmQ1YjIyOTY1YWI1M2ViNDQ5NGQ3NzYzZT...</td>\n",
       "      <td>2018-04-20 11:37:15.606636</td>\n",
       "    </tr>\n",
       "    <tr>\n",
       "      <th>1</th>\n",
       "      <td>5kzla0bpipqleq1ykxrpjvcigrbkvcqh</td>\n",
       "      <td>ZTVjMmFhNTk4NmQ1YjIyOTY1YWI1M2ViNDQ5NGQ3NzYzZT...</td>\n",
       "      <td>2018-04-20 11:52:12.322333</td>\n",
       "    </tr>\n",
       "    <tr>\n",
       "      <th>2</th>\n",
       "      <td>jzywuip7oiu7ox8pqkq97n06630pcsgm</td>\n",
       "      <td>ZTVjMmFhNTk4NmQ1YjIyOTY1YWI1M2ViNDQ5NGQ3NzYzZT...</td>\n",
       "      <td>2018-04-20 11:52:43.270830</td>\n",
       "    </tr>\n",
       "    <tr>\n",
       "      <th>3</th>\n",
       "      <td>330guubo4ym6gefblygonqoz3t53io2w</td>\n",
       "      <td>ZTVjMmFhNTk4NmQ1YjIyOTY1YWI1M2ViNDQ5NGQ3NzYzZT...</td>\n",
       "      <td>2018-04-20 11:53:02.706916</td>\n",
       "    </tr>\n",
       "    <tr>\n",
       "      <th>4</th>\n",
       "      <td>kmd0gvtix3td0gwt0x8j43g8wevhw897</td>\n",
       "      <td>NTljYmFlNzA3MTliNzVhNTFjNTQ3Zjc2MzE2M2UxY2MyZW...</td>\n",
       "      <td>2018-05-04 08:11:35.461114</td>\n",
       "    </tr>\n",
       "  </tbody>\n",
       "</table>\n",
       "</div>"
      ],
      "text/plain": [
       "                        session_key  \\\n",
       "0  owen8mcllp08yujyt86m1lckn2ut7sqh   \n",
       "1  5kzla0bpipqleq1ykxrpjvcigrbkvcqh   \n",
       "2  jzywuip7oiu7ox8pqkq97n06630pcsgm   \n",
       "3  330guubo4ym6gefblygonqoz3t53io2w   \n",
       "4  kmd0gvtix3td0gwt0x8j43g8wevhw897   \n",
       "\n",
       "                                        session_data  \\\n",
       "0  ZTVjMmFhNTk4NmQ1YjIyOTY1YWI1M2ViNDQ5NGQ3NzYzZT...   \n",
       "1  ZTVjMmFhNTk4NmQ1YjIyOTY1YWI1M2ViNDQ5NGQ3NzYzZT...   \n",
       "2  ZTVjMmFhNTk4NmQ1YjIyOTY1YWI1M2ViNDQ5NGQ3NzYzZT...   \n",
       "3  ZTVjMmFhNTk4NmQ1YjIyOTY1YWI1M2ViNDQ5NGQ3NzYzZT...   \n",
       "4  NTljYmFlNzA3MTliNzVhNTFjNTQ3Zjc2MzE2M2UxY2MyZW...   \n",
       "\n",
       "                  expire_date  \n",
       "0  2018-04-20 11:37:15.606636  \n",
       "1  2018-04-20 11:52:12.322333  \n",
       "2  2018-04-20 11:52:43.270830  \n",
       "3  2018-04-20 11:53:02.706916  \n",
       "4  2018-05-04 08:11:35.461114  "
      ]
     },
     "execution_count": 13,
     "metadata": {},
     "output_type": "execute_result"
    }
   ],
   "source": [
    "df"
   ]
  },
  {
   "cell_type": "code",
   "execution_count": null,
   "metadata": {},
   "outputs": [],
   "source": []
  }
 ],
 "metadata": {
  "kernelspec": {
   "display_name": "Python 3",
   "language": "python",
   "name": "python3"
  },
  "language_info": {
   "codemirror_mode": {
    "name": "ipython",
    "version": 3
   },
   "file_extension": ".py",
   "mimetype": "text/x-python",
   "name": "python",
   "nbconvert_exporter": "python",
   "pygments_lexer": "ipython3",
   "version": "3.5.2"
  }
 },
 "nbformat": 4,
 "nbformat_minor": 2
}
