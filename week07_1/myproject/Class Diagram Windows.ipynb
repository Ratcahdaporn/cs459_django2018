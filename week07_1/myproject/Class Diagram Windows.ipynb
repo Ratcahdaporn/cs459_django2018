{
 "cells": [
  {
   "cell_type": "code",
   "execution_count": 1,
   "metadata": {},
   "outputs": [
    {
     "ename": "SyntaxError",
     "evalue": "invalid syntax (<ipython-input-1-1d47cb2b7f5e>, line 9)",
     "output_type": "error",
     "traceback": [
      "\u001b[0;36m  File \u001b[0;32m\"<ipython-input-1-1d47cb2b7f5e>\"\u001b[0;36m, line \u001b[0;32m9\u001b[0m\n\u001b[0;31m    print get_ipython().config\u001b[0m\n\u001b[0m                    ^\u001b[0m\n\u001b[0;31mSyntaxError\u001b[0m\u001b[0;31m:\u001b[0m invalid syntax\n"
     ]
    }
   ],
   "source": [
    "from IPython.core.display import Image, display\n",
    "import pydot, subprocess, sys, os\n",
    "\n",
    "ROOT_PATH=os.path.abspath(\".\")\n",
    "manage = os.path.join(ROOT_PATH , \"manage.py\")\n",
    "\n",
    "def in_ipynb():\n",
    "    try:\n",
    "        print get_ipython().config \n",
    "        return True\n",
    "    except NameError:\n",
    "        return False\n",
    "if in_ipynb():\n",
    "    dotstr=subprocess.check_output([sys.executable, manage, \"graph_models\", \"-a\"])\n",
    "\n",
    "    (graph,) = pydot.graph_from_dot_data(dotstr)\n",
    "    graph.write_png( os.path.join(ROOT_PATH,('class_diagram.png')) )\n",
    "\n",
    "    display(Image('class_diagram.png'))"
   ]
  },
  {
   "cell_type": "code",
   "execution_count": null,
   "metadata": {},
   "outputs": [],
   "source": []
  }
 ],
 "metadata": {
  "kernelspec": {
   "display_name": "Django Shell-Plus",
   "language": "python",
   "name": "django_extensions"
  },
  "language_info": {
   "codemirror_mode": {
    "name": "ipython",
    "version": 3
   },
   "file_extension": ".py",
   "mimetype": "text/x-python",
   "name": "python",
   "nbconvert_exporter": "python",
   "pygments_lexer": "ipython3",
   "version": "3.5.2"
  }
 },
 "nbformat": 4,
 "nbformat_minor": 2
}
